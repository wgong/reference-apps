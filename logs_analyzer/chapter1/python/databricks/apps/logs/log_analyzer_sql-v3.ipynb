{
 "cells": [
  {
   "cell_type": "code",
   "execution_count": 1,
   "metadata": {},
   "outputs": [],
   "source": [
    "from pyspark.sql import SparkSession\n",
    "import apache_access_log"
   ]
  },
  {
   "cell_type": "code",
   "execution_count": 2,
   "metadata": {},
   "outputs": [],
   "source": [
    "spark = SparkSession.builder.appName(\"Log Analyzer\").getOrCreate()\n",
    "sc = spark.sparkContext"
   ]
  },
  {
   "cell_type": "code",
   "execution_count": 3,
   "metadata": {},
   "outputs": [],
   "source": [
    "logFile = \"/home/wengong/spark/apps/databrick-ref-apps/logs_analyzer/data/apache.access.log\""
   ]
  },
  {
   "cell_type": "code",
   "execution_count": 4,
   "metadata": {},
   "outputs": [],
   "source": [
    "access_logs = sc.textFile(logFile).map(apache_access_log.parse_apache_log_line)"
   ]
  },
  {
   "cell_type": "code",
   "execution_count": 5,
   "metadata": {},
   "outputs": [
    {
     "data": {
      "text/plain": [
       "pyspark.rdd.PipelinedRDD"
      ]
     },
     "execution_count": 5,
     "metadata": {},
     "output_type": "execute_result"
    }
   ],
   "source": [
    "type(access_logs)"
   ]
  },
  {
   "cell_type": "code",
   "execution_count": 11,
   "metadata": {},
   "outputs": [],
   "source": [
    "row1 = access_logs.first()"
   ]
  },
  {
   "cell_type": "code",
   "execution_count": 12,
   "metadata": {},
   "outputs": [
    {
     "data": {
      "text/plain": [
       "pyspark.sql.types.Row"
      ]
     },
     "execution_count": 12,
     "metadata": {},
     "output_type": "execute_result"
    }
   ],
   "source": [
    "type(row1)"
   ]
  },
  {
   "cell_type": "code",
   "execution_count": 15,
   "metadata": {},
   "outputs": [],
   "source": [
    "columns = list(row1.asDict().keys())"
   ]
  },
  {
   "cell_type": "code",
   "execution_count": 16,
   "metadata": {},
   "outputs": [
    {
     "data": {
      "text/plain": [
       "['ip_address',\n",
       " 'client_identd',\n",
       " 'user_id',\n",
       " 'date_time',\n",
       " 'method',\n",
       " 'endpoint',\n",
       " 'protocol',\n",
       " 'response_code',\n",
       " 'content_size']"
      ]
     },
     "execution_count": 16,
     "metadata": {},
     "output_type": "execute_result"
    }
   ],
   "source": [
    "columns"
   ]
  },
  {
   "cell_type": "code",
   "execution_count": 17,
   "metadata": {},
   "outputs": [],
   "source": [
    "df = access_logs.toDF(columns)"
   ]
  },
  {
   "cell_type": "code",
   "execution_count": 20,
   "metadata": {},
   "outputs": [],
   "source": [
    "df = df.drop(\"client_identd\", \"user_id\")"
   ]
  },
  {
   "cell_type": "code",
   "execution_count": 21,
   "metadata": {},
   "outputs": [
    {
     "name": "stdout",
     "output_type": "stream",
     "text": [
      "+------------+--------------------+------+--------------------+--------+-------------+------------+\n",
      "|  ip_address|           date_time|method|            endpoint|protocol|response_code|content_size|\n",
      "+------------+--------------------+------+--------------------+--------+-------------+------------+\n",
      "|64.242.88.10|07/Mar/2004:16:05...|   GET|/twiki/bin/edit/M...|HTTP/1.1|          401|       12846|\n",
      "|64.242.88.10|07/Mar/2004:16:06...|   GET|/twiki/bin/rdiff/...|HTTP/1.1|          200|        4523|\n",
      "|64.242.88.10|07/Mar/2004:16:10...|   GET|/mailman/listinfo...|HTTP/1.1|          200|        6291|\n",
      "|64.242.88.10|07/Mar/2004:16:11...|   GET|/twiki/bin/view/T...|HTTP/1.1|          200|        7352|\n",
      "|64.242.88.10|07/Mar/2004:16:20...|   GET|/twiki/bin/view/M...|HTTP/1.1|          200|        5253|\n",
      "+------------+--------------------+------+--------------------+--------+-------------+------------+\n",
      "only showing top 5 rows\n",
      "\n"
     ]
    }
   ],
   "source": [
    "df.show(5)"
   ]
  },
  {
   "cell_type": "code",
   "execution_count": 22,
   "metadata": {},
   "outputs": [],
   "source": [
    "df.createOrReplaceTempView(\"logs\")"
   ]
  },
  {
   "cell_type": "code",
   "execution_count": 24,
   "metadata": {},
   "outputs": [],
   "source": [
    "# Calculate statistics based on the content size."
   ]
  },
  {
   "cell_type": "code",
   "execution_count": 23,
   "metadata": {},
   "outputs": [
    {
     "name": "stdout",
     "output_type": "stream",
     "text": [
      "+--------+--------+-----------------+------+------+\n",
      "|  theSum|theCount|           theAvg|theMin|theMax|\n",
      "+--------+--------+-----------------+------+------+\n",
      "|10933005|    1406|7775.963726884779|     0|138789|\n",
      "+--------+--------+-----------------+------+------+\n",
      "\n"
     ]
    }
   ],
   "source": [
    "sql = \"\"\"\n",
    "SELECT \n",
    "    SUM(content_size) as theSum,\n",
    "    COUNT(*) as theCount,\n",
    "    Avg(content_size) as theAvg,\n",
    "    MIN(content_size) as theMin,\n",
    "    MAX(content_size) as theMax\n",
    "FROM logs\n",
    "\"\"\"\n",
    "spark.sql(sql).show()"
   ]
  },
  {
   "cell_type": "code",
   "execution_count": null,
   "metadata": {},
   "outputs": [],
   "source": [
    "# Response Code to Count"
   ]
  },
  {
   "cell_type": "code",
   "execution_count": 28,
   "metadata": {},
   "outputs": [
    {
     "name": "stdout",
     "output_type": "stream",
     "text": [
      "+-------------+--------+\n",
      "|response_code|theCount|\n",
      "+-------------+--------+\n",
      "|          200|    1272|\n",
      "|          401|     123|\n",
      "|          302|       6|\n",
      "|          404|       5|\n",
      "+-------------+--------+\n",
      "\n"
     ]
    }
   ],
   "source": [
    "sql = \"\"\"\n",
    "SELECT response_code, COUNT(*) AS theCount \n",
    "FROM logs \n",
    "GROUP BY response_code \n",
    "order by COUNT(*) desc\n",
    "\"\"\"\n",
    "spark.sql(sql).show()"
   ]
  },
  {
   "cell_type": "code",
   "execution_count": 29,
   "metadata": {},
   "outputs": [],
   "source": [
    "# Any IPAddress that has accessed the server more than 10 times"
   ]
  },
  {
   "cell_type": "code",
   "execution_count": 41,
   "metadata": {},
   "outputs": [
    {
     "name": "stdout",
     "output_type": "stream",
     "text": [
      "+-------------------------------+--------+\n",
      "|ip_address                     |theCount|\n",
      "+-------------------------------+--------+\n",
      "|64.242.88.10                   |452     |\n",
      "|10.0.0.153                     |188     |\n",
      "|cr020r01-3.sac.overture.com    |44      |\n",
      "|h24-71-236-129.ca.shawcable.net|36      |\n",
      "|h24-70-69-74.ca.shawcable.net  |32      |\n",
      "|market-mail.panduit.com        |29      |\n",
      "|ts04-ip92.hevanet.com          |28      |\n",
      "|ip68-228-43-49.tc.ph.cox.net   |22      |\n",
      "|proxy0.haifa.ac.il             |19      |\n",
      "|207.195.59.160                 |15      |\n",
      "+-------------------------------+--------+\n",
      "only showing top 10 rows\n",
      "\n"
     ]
    }
   ],
   "source": [
    "sql = \"\"\"\n",
    "SELECT ip_address, COUNT(*) AS theCount \n",
    "FROM logs \n",
    "GROUP BY ip_address \n",
    "order by COUNT(*) desc\n",
    "\"\"\"\n",
    "spark.sql(sql).show(10, truncate=False)"
   ]
  },
  {
   "cell_type": "code",
   "execution_count": null,
   "metadata": {},
   "outputs": [],
   "source": [
    "# Top Endpoints"
   ]
  },
  {
   "cell_type": "code",
   "execution_count": 42,
   "metadata": {},
   "outputs": [
    {
     "name": "stdout",
     "output_type": "stream",
     "text": [
      "+-----------------------------------------------+--------+\n",
      "|endpoint                                       |theCount|\n",
      "+-----------------------------------------------+--------+\n",
      "|/twiki/bin/view/Main/WebHome                   |40      |\n",
      "|/twiki/pub/TWiki/TWikiLogos/twikiRobot46x50.gif|32      |\n",
      "|/                                              |31      |\n",
      "|/favicon.ico                                   |28      |\n",
      "|/robots.txt                                    |27      |\n",
      "|/razor.html                                    |23      |\n",
      "|/twiki/bin/view/Main/SpamAssassinTaggingOnly   |18      |\n",
      "|/twiki/bin/view/Main/SpamAssassinAndPostFix    |17      |\n",
      "|/cgi-bin/mailgraph.cgi/mailgraph_1_err.png     |16      |\n",
      "|/cgi-bin/mailgraph.cgi/mailgraph_3.png         |16      |\n",
      "+-----------------------------------------------+--------+\n",
      "only showing top 10 rows\n",
      "\n"
     ]
    }
   ],
   "source": [
    "sql = \"\"\"\n",
    "SELECT endpoint, COUNT(*) AS theCount \n",
    "FROM logs \n",
    "GROUP BY endpoint \n",
    "order by COUNT(*) desc\n",
    "\"\"\"\n",
    "spark.sql(sql).show(10, truncate=False)"
   ]
  },
  {
   "cell_type": "code",
   "execution_count": null,
   "metadata": {},
   "outputs": [],
   "source": []
  },
  {
   "cell_type": "code",
   "execution_count": null,
   "metadata": {},
   "outputs": [],
   "source": []
  },
  {
   "cell_type": "code",
   "execution_count": null,
   "metadata": {},
   "outputs": [],
   "source": [
    "spark.stop()"
   ]
  }
 ],
 "metadata": {
  "kernelspec": {
   "display_name": "Python 3",
   "language": "python",
   "name": "python3"
  },
  "language_info": {
   "codemirror_mode": {
    "name": "ipython",
    "version": 3
   },
   "file_extension": ".py",
   "mimetype": "text/x-python",
   "name": "python",
   "nbconvert_exporter": "python",
   "pygments_lexer": "ipython3",
   "version": "3.8.5"
  }
 },
 "nbformat": 4,
 "nbformat_minor": 4
}
